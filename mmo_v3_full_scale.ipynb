{
 "cells": [
  {
   "cell_type": "code",
   "execution_count": 19,
   "id": "7b0d58ff",
   "metadata": {},
   "outputs": [],
   "source": [
    "from asyncio import protocols\n",
    "from datetime import datetime,timedelta,date\n",
    "import pandas as pd\n",
    "from pyhive import presto\n",
    "import numpy as np\n",
    "import os\n",
    "import warnings\n",
    "from scipy import stats\n",
    "import datetime\n",
    "presto_host = 'bi-presto.serving.data.production.internal' #'bi-presto.serving.data.production.internal' #'presto.processing.yoda.run' #'bi-presto.serving.data.production.internal'\n",
    "presto_port = '80'\n",
    "presto_conn = presto.connect(\n",
    "    host=presto_host,\n",
    "    port=presto_port,\n",
    "    username='praveen.u@rapido.bike',\n",
    "    protocol='http',\n",
    "    catalog='hive',\n",
    ")\n",
    "pd.options.mode.chained_assignment = None"
   ]
  },
  {
   "cell_type": "code",
   "execution_count": null,
   "id": "e2c64df6",
   "metadata": {},
   "outputs": [],
   "source": []
  },
  {
   "cell_type": "code",
   "execution_count": 20,
   "id": "a12d084e",
   "metadata": {},
   "outputs": [],
   "source": [
    "#AOR"
   ]
  },
  {
   "cell_type": "code",
   "execution_count": null,
   "id": "2191f8e6",
   "metadata": {},
   "outputs": [],
   "source": []
  },
  {
   "cell_type": "code",
   "execution_count": 24,
   "id": "55932236",
   "metadata": {},
   "outputs": [
    {
     "name": "stdout",
     "output_type": "stream",
     "text": [
      "20230522\n",
      "20230523\n",
      "20230524\n",
      "20230525\n",
      "20230526\n",
      "20230527\n",
      "20230528\n",
      "20230529\n"
     ]
    }
   ],
   "source": [
    "data_df_v2=pd.DataFrame()\n",
    "\n",
    "for i in pd.date_range('20230522','20230529'):\n",
    "\n",
    "    query=\"\"\"with order_logs as ( \n",
    "                            select captain_id,yyyymmdd,hour,order_id,city_name,order_status,event_type_agg\n",
    "                            from\n",
    "                            (\n",
    "                            select * from\n",
    "                            (\n",
    "                            select  yyyymmdd,\n",
    "                            order_id,captain_id,city_name,order_status,substr(hhmmss,1,2) as hour,\n",
    "                            array_agg(event_type) over (partition by order_id) as event_type_agg,\n",
    "                            row_number() over(partition by order_id order by updated_epoch desc) as row \n",
    "                            from  orders.order_logs_immutable \n",
    "                            where yyyymmdd = '{std}'\n",
    "                            and city_name in ('Hyderabad','Chennai')\n",
    "                            and order_id in  (select distinct order_id \n",
    "                                                            from \n",
    "                                                            orders.order_logs_snapshot\n",
    "                                                            where yyyymmdd = '{std}'\n",
    "                                                            and service_obj_service_name = 'Auto'\n",
    "                                                            and (spd_fraud_flag = false OR spd_fraud_flag IS NULL)\n",
    "                                                            and lower(trim(city_name)) in ('hyderabad','chennai'))\n",
    "                            )\n",
    "                            ) as a\n",
    "                            )\n",
    "                \n",
    "                select city_name,yyyymmdd,hour,\n",
    "                Accepted_Orders/(gross_orders*1.00) as AOR\n",
    "                \n",
    "                from\n",
    "                (\n",
    "                    select city_name,yyyymmdd,hour,\n",
    "                    count(distinct case when contains(event_type_agg, 'accepted') then order_logs.order_id end) as Accepted_Orders,\n",
    "                    count(distinct order_logs.order_id) as gross_orders\n",
    "\n",
    "                    from order_logs\n",
    "                    group by 1,2,3\n",
    "                )\n",
    "                \"\"\".format(std=i.strftime('%Y%m%d'))\n",
    "\n",
    "    data1=pd.read_sql(query,presto_conn)\n",
    "    print(i.strftime('%Y%m%d'))\n",
    "    \n",
    "    #print(len(data1))\n",
    "    \n",
    "    data_df_v2=data_df_v2.append(data1)\n"
   ]
  },
  {
   "cell_type": "code",
   "execution_count": 25,
   "id": "9876a66c",
   "metadata": {},
   "outputs": [],
   "source": [
    "data_df_v2=data_df_v2.sort_values(by=['city_name','hour']).reset_index(drop=True)"
   ]
  },
  {
   "cell_type": "code",
   "execution_count": 27,
   "id": "92f155f6",
   "metadata": {},
   "outputs": [],
   "source": [
    "data_df_v2.to_clipboard()"
   ]
  },
  {
   "cell_type": "code",
   "execution_count": null,
   "id": "cfe95119",
   "metadata": {},
   "outputs": [],
   "source": []
  }
 ],
 "metadata": {
  "kernelspec": {
   "display_name": "Python 3 (ipykernel)",
   "language": "python",
   "name": "python3"
  },
  "language_info": {
   "codemirror_mode": {
    "name": "ipython",
    "version": 3
   },
   "file_extension": ".py",
   "mimetype": "text/x-python",
   "name": "python",
   "nbconvert_exporter": "python",
   "pygments_lexer": "ipython3",
   "version": "3.9.7"
  }
 },
 "nbformat": 4,
 "nbformat_minor": 5
}
